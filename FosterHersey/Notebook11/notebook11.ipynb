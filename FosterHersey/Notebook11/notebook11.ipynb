{
 "cells": [
  {
   "cell_type": "markdown",
   "metadata": {},
   "source": [
    "## K-Means Clustering\n"
   ]
  },
  {
   "cell_type": "markdown",
   "metadata": {},
   "source": [
    "### Create Random Data Set"
   ]
  },
  {
   "cell_type": "markdown",
   "metadata": {},
   "source": [
    "In the last few weeks, we've studied classifiers - KNN, Naive Bayes, Logistic Regression, and SVMs. These are algorithms that are trainined on a dataset and are then tasked with accurately \"classifying\" a new data point with the appropriate label. \n",
    "\n",
    "Kmeans is in a different class of algorithms, called clustering. It is an unsupervised approach meaning that it is not presented with labels. Instead it is presented with a dataset and it is tasked with finding the clusters inherent in the data.\n",
    "\n",
    "Assignment: generate a series of 80 data points in 2 dimensions (x,y) with the following properties:\n",
    "\n",
    "- there should be 4 clusters of points\n",
    "- each cluster should be formed by points whose coordinates come from a 2D gaussian\n",
    "- the 2D gaussians should have the following centers:\n",
    "- [1,1] , [1,3], [3,1], [3,3]\n",
    "- they should have variance of 0.1, and 0 covariance"
   ]
  },
  {
   "cell_type": "markdown",
   "metadata": {},
   "source": [
    "np.random.multivariate takes 3 parameters:\n",
    "- mean\n",
    "- covariance\n",
    "- number of samples"
   ]
  },
  {
   "cell_type": "code",
   "execution_count": 3,
   "metadata": {
    "collapsed": false
   },
   "outputs": [],
   "source": [
    "import numpy as np\n",
    "import matplotlib.pyplot as plt\n",
    "%matplotlib inline"
   ]
  },
  {
   "cell_type": "markdown",
   "metadata": {},
   "source": [
    "In the Code below, np.random.multivariate_normal samples from a gaussian distribution to generate a collection of points. Let's first get comfortable with sampling from a distrubtion. \n"
   ]
  },
  {
   "cell_type": "code",
   "execution_count": 5,
   "metadata": {
    "collapsed": false
   },
   "outputs": [
    {
     "name": "stdout",
     "output_type": "stream",
     "text": [
      "[[ 1.04373286  0.93664651]\n",
      " [ 0.95889066  0.6953559 ]\n",
      " [ 1.03897704  1.46119318]\n",
      " [ 0.9490453   0.6602351 ]\n",
      " [ 1.04339601  1.17181435]\n",
      " [ 1.28999619  0.62371625]\n",
      " [ 0.86459898  0.56467274]\n",
      " [ 1.11040269  0.6560256 ]\n",
      " [ 1.18164266  1.18163921]\n",
      " [ 1.35803555  0.97771873]\n",
      " [ 0.94214129  0.52844363]\n",
      " [ 1.24013307  0.79286661]\n",
      " [ 1.28501156  0.90485434]\n",
      " [ 1.02316627  0.91750681]\n",
      " [ 1.13091608  0.57135767]\n",
      " [ 0.52969416  1.4113918 ]\n",
      " [ 0.44570004  0.86585955]\n",
      " [ 1.48798239  1.52187893]\n",
      " [ 0.33646427  1.31068232]\n",
      " [ 0.78861904  1.11001943]]\n"
     ]
    }
   ],
   "source": [
    "sample1 = np.random.multivariate_normal([1,1],[[.1,0],[0,.1]],20)\n",
    "sample2 = np.random.multivariate_normal([1,3],[[.1,0],[0,.1]],20)\n",
    "sample3 = np.random.multivariate_normal([3,1],[[.1,0],[0,.1]],20)\n",
    "sample4 = np.random.multivariate_normal([3,3],[[.1,0],[0,.1]],20)\n",
    "\n",
    "print sample1"
   ]
  },
  {
   "cell_type": "code",
   "execution_count": 9,
   "metadata": {
    "collapsed": false
   },
   "outputs": [
    {
     "data": {
      "image/png": "[encoded data removed]",
      "text/plain": [
       "<matplotlib.figure.Figure at 0x108028710>"
      ]
     },
     "metadata": {},
     "output_type": "display_data"
    }
   ],
   "source": [
    "plt.scatter(sample1[:,0], sample1[:,1])\n",
    "plt.scatter(sample2[:,0], sample2[:,1])\n",
    "plt.scatter(sample3[:,0], sample3[:,1])\n",
    "plt.scatter(sample4[:,0], sample4[:,1])\n",
    "plt.title('4 clusters ?')\n",
    "plt.show()"
   ]
  },
  {
   "cell_type": "markdown",
   "metadata": {},
   "source": [
    "Now let's create our clusters .... `np.vstack()` will concatenate your 4 distributions together, so add your calls to `multivariate_normal()` within it."
   ]
  },
  {
   "cell_type": "code",
   "execution_count": 11,
   "metadata": {
    "collapsed": false
   },
   "outputs": [],
   "source": [
    "# Add 4 2D gaussians with the characteristics above\n",
    "data = np.vstack([sample1, sample2, sample3, sample4])"
   ]
  },
  {
   "cell_type": "code",
   "execution_count": 12,
   "metadata": {
    "collapsed": false
   },
   "outputs": [
    {
     "data": {
      "text/plain": [
       "array([[ 1.04373286,  0.93664651],\n",
       "       [ 0.95889066,  0.6953559 ],\n",
       "       [ 1.03897704,  1.46119318],\n",
       "       [ 0.9490453 ,  0.6602351 ],\n",
       "       [ 1.04339601,  1.17181435],\n",
       "       [ 1.28999619,  0.62371625],\n",
       "       [ 0.86459898,  0.56467274],\n",
       "       [ 1.11040269,  0.6560256 ],\n",
       "       [ 1.18164266,  1.18163921],\n",
       "       [ 1.35803555,  0.97771873]])"
      ]
     },
     "execution_count": 12,
     "metadata": {},
     "output_type": "execute_result"
    }
   ],
   "source": [
    "data[:10,:]"
   ]
  },
  {
   "cell_type": "markdown",
   "metadata": {},
   "source": [
    "Plot the points"
   ]
  },
  {
   "cell_type": "code",
   "execution_count": 14,
   "metadata": {
    "collapsed": false
   },
   "outputs": [
    {
     "data": {
      "image/png": "[encoded data removed]",
      "text/plain": [
       "<matplotlib.figure.Figure at 0x10827f090>"
      ]
     },
     "metadata": {},
     "output_type": "display_data"
    }
   ],
   "source": [
    "plt.scatter(data[:,0], data[:,1])\n",
    "plt.title('concatenated')\n",
    "plt.show()"
   ]
  },
  {
   "cell_type": "markdown",
   "metadata": {},
   "source": [
    "### Load the KMeans Class from sklearn.cluster"
   ]
  },
  {
   "cell_type": "code",
   "execution_count": 15,
   "metadata": {
    "collapsed": false
   },
   "outputs": [],
   "source": [
    "from sklearn.cluster import KMeans"
   ]
  },
  {
   "cell_type": "markdown",
   "metadata": {},
   "source": [
    "Initialize a KMeans classifier called `km` with 4 cluster, random initialization, random_state=1, 1 initial centroid seed and maximum number of iterations equal to 1"
   ]
  },
  {
   "cell_type": "code",
   "execution_count": 16,
   "metadata": {
    "collapsed": false
   },
   "outputs": [],
   "source": [
    "km = KMeans(n_clusters=4, init='random', max_iter=1, n_init=1, random_state=1)"
   ]
  },
  {
   "cell_type": "markdown",
   "metadata": {},
   "source": [
    "Train the classifier on all the data"
   ]
  },
  {
   "cell_type": "code",
   "execution_count": 18,
   "metadata": {
    "collapsed": false
   },
   "outputs": [
    {
     "data": {
      "text/plain": [
       "KMeans(copy_x=True, init='random', max_iter=1, n_clusters=4, n_init=1,\n",
       "    n_jobs=1, precompute_distances='auto', random_state=1, tol=0.0001,\n",
       "    verbose=0)"
      ]
     },
     "execution_count": 18,
     "metadata": {},
     "output_type": "execute_result"
    }
   ],
   "source": [
    "km.fit(data)"
   ]
  },
  {
   "cell_type": "markdown",
   "metadata": {},
   "source": [
    "Extract the coordinates of the cluster centers by retrieving `cluster_centers_` from `km`, store this as `centroids`"
   ]
  },
  {
   "cell_type": "code",
   "execution_count": 19,
   "metadata": {
    "collapsed": false
   },
   "outputs": [
    {
     "data": {
      "text/plain": [
       "array([[ 3.0463339 ,  1.55518822],\n",
       "       [ 1.23199312,  2.37910958],\n",
       "       [ 0.82592456,  1.4768323 ],\n",
       "       [ 3.00835224,  3.24326608]])"
      ]
     },
     "execution_count": 19,
     "metadata": {},
     "output_type": "execute_result"
    }
   ],
   "source": [
    "centroids = km.cluster_centers_\n",
    "centroids"
   ]
  },
  {
   "cell_type": "markdown",
   "metadata": {},
   "source": [
    "Predict the clusters for each data point, store this as `y`"
   ]
  },
  {
   "cell_type": "code",
   "execution_count": 21,
   "metadata": {
    "collapsed": false
   },
   "outputs": [
    {
     "data": {
      "text/plain": [
       "array([2, 2, 2, 2, 2, 2, 2, 2, 2, 2, 2, 2, 2, 2, 2, 2, 2, 2, 2, 2, 1, 1, 1,\n",
       "       1, 1, 1, 3, 1, 1, 1, 1, 1, 1, 1, 1, 1, 1, 1, 1, 1, 0, 0, 0, 0, 0, 0,\n",
       "       0, 0, 0, 0, 0, 0, 0, 0, 0, 0, 0, 0, 0, 0, 3, 0, 3, 3, 3, 3, 3, 3, 3,\n",
       "       3, 3, 3, 3, 3, 3, 3, 3, 3, 3, 3], dtype=int32)"
      ]
     },
     "execution_count": 21,
     "metadata": {},
     "output_type": "execute_result"
    }
   ],
   "source": [
    "y = km.predict(data)\n",
    "y"
   ]
  },
  {
   "cell_type": "markdown",
   "metadata": {},
   "source": [
    "Plot the points with a different color for each cluster. Plot also the centroids in Red.  Take note of the syntax here, we're explicitly specifying the marker types and colors in our plots (useful for the future perhaps)."
   ]
  },
  {
   "cell_type": "code",
   "execution_count": 22,
   "metadata": {
    "collapsed": false
   },
   "outputs": [
    {
     "data": {
      "text/plain": [
       "<matplotlib.collections.PathCollection at 0x1088a6bd0>"
      ]
     },
     "execution_count": 22,
     "metadata": {},
     "output_type": "execute_result"
    },
    {
     "data": {
      "image/png": "[encoded data removed]",
      "text/plain": [
       "<matplotlib.figure.Figure at 0x10801ae90>"
      ]
     },
     "metadata": {},
     "output_type": "display_data"
    }
   ],
   "source": [
    "fig, ax = plt.subplots(1,1, figsize=(8,8))\n",
    "for t,marker,c in zip(xrange(4),\">ox+\",\"rgby\") :\n",
    "    ax.scatter(data[y == t,0],\n",
    "                data[y == t,1],\n",
    "                marker=marker,\n",
    "                c=c)\n",
    "\n",
    "ax.scatter(centroids[:,0],centroids[:,1],marker = 's',c='r')"
   ]
  },
  {
   "cell_type": "markdown",
   "metadata": {},
   "source": [
    "#### Discussion: what do you see?"
   ]
  },
  {
   "cell_type": "markdown",
   "metadata": {},
   "source": [
    "Let's try with better parameters. Initialize a KMeans classifier with 4 clusters, improved initialization, 10 initial centroid seeds and maximum number of iterations equal to 300."
   ]
  },
  {
   "cell_type": "code",
   "execution_count": 23,
   "metadata": {
    "collapsed": false
   },
   "outputs": [],
   "source": [
    "km2 = KMeans(n_clusters=4, init='k-means++', max_iter=300, n_init=10, random_state=1)"
   ]
  },
  {
   "cell_type": "markdown",
   "metadata": {},
   "source": [
    "Condense the steps above in a handy function that receives the data and the classifier as input parameters and returns the figure. Make sure you are aware of the number of clusters"
   ]
  },
  {
   "cell_type": "code",
   "execution_count": 24,
   "metadata": {
    "collapsed": false
   },
   "outputs": [],
   "source": [
    "def do_kmeans_4(km, data):\n",
    "    km.fit(data)\n",
    "    centroids = km.cluster_centers_\n",
    "    print \"centroids:\", centroids\n",
    "    y = km.predict(data)\n",
    "    \n",
    "    \n",
    "    fig, ax = plt.subplots(1,1, figsize=(8,8))\n",
    "    for t,marker,c in zip(xrange(4),\">ox+\",\"rgby\") :\n",
    "        ax.scatter(data[y == t,0],\n",
    "                   data[y == t,1],\n",
    "                   marker=marker,\n",
    "                   c=c)\n",
    "\n",
    "    ax.scatter(centroids[:,0],centroids[:,1],marker = 's',c='r')"
   ]
  },
  {
   "cell_type": "code",
   "execution_count": 25,
   "metadata": {
    "collapsed": false
   },
   "outputs": [
    {
     "name": "stdout",
     "output_type": "stream",
     "text": [
      "centroids: [[ 1.04620075  2.94083418]\n",
      " [ 3.05702827  3.04619922]\n",
      " [ 1.00242731  0.94319393]\n",
      " [ 3.01263633  1.18017832]]\n"
     ]
    },
    {
     "data": {
      "image/png": "[encoded data removed]",
      "text/plain": [
       "<matplotlib.figure.Figure at 0x1088ce3d0>"
      ]
     },
     "metadata": {},
     "output_type": "display_data"
    }
   ],
   "source": [
    "do_kmeans_4(km2, data)"
   ]
  },
  {
   "cell_type": "markdown",
   "metadata": {},
   "source": [
    "### Blurred boundaries"
   ]
  },
  {
   "cell_type": "markdown",
   "metadata": {},
   "source": [
    "Generate new datapoints that have a bigger variance of 0.5, around the same centroids using the same process you did above.  Store these in `data1`.  Plot the results in a scatter plot."
   ]
  },
  {
   "cell_type": "code",
   "execution_count": 26,
   "metadata": {
    "collapsed": false
   },
   "outputs": [
    {
     "data": {
      "image/png": "[encoded data removed]",
      "text/plain": [
       "<matplotlib.figure.Figure at 0x108695ad0>"
      ]
     },
     "metadata": {},
     "output_type": "display_data"
    }
   ],
   "source": [
    "new1 = np.random.multivariate_normal([1,1],[[.5,0],[0,.5]],20)\n",
    "new2 = np.random.multivariate_normal([1,3],[[.5,0],[0,.5]],20)\n",
    "new3 = np.random.multivariate_normal([3,1],[[.5,0],[0,.5]],20)\n",
    "new4 = np.random.multivariate_normal([3,3],[[.5,0],[0,.5]],20)\n",
    "\n",
    "data1 = np.vstack([new1, new2, new3, new4])\n",
    "plt.scatter(data1[:,0], data1[:,1])\n",
    "plt.show()"
   ]
  },
  {
   "cell_type": "markdown",
   "metadata": {},
   "source": [
    "Initialize a new kmeans classifier"
   ]
  },
  {
   "cell_type": "code",
   "execution_count": null,
   "metadata": {
    "collapsed": false
   },
   "outputs": [],
   "source": [
    "km2 = KMeans(n_clusters=4, init='k-means++', max_iter=300, n_init=10, random_state=1)"
   ]
  },
  {
   "cell_type": "markdown",
   "metadata": {},
   "source": [
    "Use the previously defined function `do_kmeans_4` to fit and plot the new data"
   ]
  },
  {
   "cell_type": "code",
   "execution_count": 27,
   "metadata": {
    "collapsed": false
   },
   "outputs": [
    {
     "name": "stdout",
     "output_type": "stream",
     "text": [
      "centroids: [[ 1.06905562  3.21910825]\n",
      " [ 3.09561012  2.55553678]\n",
      " [ 0.77399067  1.2026848 ]\n",
      " [ 3.01736742  0.97277196]]\n"
     ]
    },
    {
     "data": {
      "image/png": "[encoded data removed]",
      "text/plain": [
       "<matplotlib.figure.Figure at 0x1086cba90>"
      ]
     },
     "metadata": {},
     "output_type": "display_data"
    }
   ],
   "source": [
    "do_kmeans_4(km2, data1)"
   ]
  },
  {
   "cell_type": "markdown",
   "metadata": {},
   "source": [
    "Repeat the above with 150 points per cluster"
   ]
  },
  {
   "cell_type": "code",
   "execution_count": 28,
   "metadata": {
    "collapsed": false
   },
   "outputs": [
    {
     "data": {
      "image/png": "[encoded data removed]",
      "text/plain": [
       "<matplotlib.figure.Figure at 0x108058290>"
      ]
     },
     "metadata": {},
     "output_type": "display_data"
    }
   ],
   "source": [
    "newer1 = np.random.multivariate_normal([1,1],[[.5,0],[0,.5]],150)\n",
    "newer2 = np.random.multivariate_normal([1,3],[[.5,0],[0,.5]],150)\n",
    "newer3 = np.random.multivariate_normal([3,1],[[.5,0],[0,.5]],150)\n",
    "newer4 = np.random.multivariate_normal([3,3],[[.5,0],[0,.5]],150)\n",
    "\n",
    "data2 = np.vstack([newer1, newer2, newer3, newer4])\n",
    "plt.scatter(data2[:,0], data2[:,1])\n",
    "plt.show()"
   ]
  },
  {
   "cell_type": "code",
   "execution_count": 29,
   "metadata": {
    "collapsed": false
   },
   "outputs": [
    {
     "name": "stdout",
     "output_type": "stream",
     "text": [
      "centroids: [[ 1.00174509  3.12731202]\n",
      " [ 3.09265806  1.02147933]\n",
      " [ 0.86703797  1.04610253]\n",
      " [ 2.95475263  3.15820062]]\n"
     ]
    },
    {
     "data": {
      "image/png": "[encoded data removed]",
      "text/plain": [
       "<matplotlib.figure.Figure at 0x10829d690>"
      ]
     },
     "metadata": {},
     "output_type": "display_data"
    }
   ],
   "source": [
    "km2 = KMeans(n_clusters=4, init='k-means++', max_iter=300, n_init=10, random_state=1)\n",
    "do_kmeans_4(km2, data2)"
   ]
  },
  {
   "cell_type": "markdown",
   "metadata": {},
   "source": [
    "#### Discussion: what do you see?"
   ]
  },
  {
   "cell_type": "markdown",
   "metadata": {},
   "source": [
    "## Let's find clusters in the Iris Dataset"
   ]
  },
  {
   "cell_type": "markdown",
   "metadata": {},
   "source": [
    "Import the data from the iris dataset in sklearn, generate X and y arrays from the `data` and `target` attributes.  Also store the `target_names` attribute into a variable called `target_names`"
   ]
  },
  {
   "cell_type": "code",
   "execution_count": 45,
   "metadata": {
    "collapsed": false
   },
   "outputs": [
    {
     "name": "stdout",
     "output_type": "stream",
     "text": [
      "['setosa' 'versicolor' 'virginica']\n"
     ]
    }
   ],
   "source": [
    "from sklearn import datasets\n",
    "iris = datasets.load_iris()\n",
    "X = iris.data\n",
    "y = iris.target\n",
    "target_names = iris.target_names\n",
    "\n",
    "print target_names"
   ]
  },
  {
   "cell_type": "markdown",
   "metadata": {},
   "source": [
    "Display the features names"
   ]
  },
  {
   "cell_type": "code",
   "execution_count": 35,
   "metadata": {
    "collapsed": false,
    "scrolled": true
   },
   "outputs": [
    {
     "name": "stdout",
     "output_type": "stream",
     "text": [
      "['sepal length (cm)', 'sepal width (cm)', 'petal length (cm)', 'petal width (cm)']\n"
     ]
    }
   ],
   "source": [
    "print iris.feature_names"
   ]
  },
  {
   "cell_type": "markdown",
   "metadata": {},
   "source": [
    "Plot the Sepal width versus Petal Width with colors according to species.  Use the same syntax for specifying marker colors and types that we did above but this time try to add a 4th parameter in the zip function, the target_names parameter and use this as the `label` parameter for each scatter plot."
   ]
  },
  {
   "cell_type": "code",
   "execution_count": 46,
   "metadata": {
    "collapsed": false
   },
   "outputs": [
    {
     "data": {
      "image/png": "[encoded data removed]",
      "text/plain": [
       "<matplotlib.figure.Figure at 0x10b326890>"
      ]
     },
     "metadata": {},
     "output_type": "display_data"
    }
   ],
   "source": [
    "fig, ax = plt.subplots(1,1, figsize=(8,8))\n",
    "# Generate the plot like above\n",
    "plt.scatter(X[:,1], X[:,3])\n",
    "\n",
    "plt.xlabel('Sepal width (cm)')\n",
    "plt.ylabel('Petal width (cm)')\n",
    "plt.title('Sepal width (cm) VS Petal width (cm)')\n",
    "plt.legend(loc='best')\n",
    "plt.show()"
   ]
  },
  {
   "cell_type": "markdown",
   "metadata": {},
   "source": [
    "### Exercise 1: Implement Kmeans on Iris Data Set\n",
    "Even though the Iris Data Set has labels, the Kmeans algorithms will not take these labels as input. So we'll see how well it does at figuring out these labels on its own\n",
    "\n",
    "### Using 3 clusters, fit and and predict using Kmeans"
   ]
  },
  {
   "cell_type": "code",
   "execution_count": null,
   "metadata": {
    "collapsed": false
   },
   "outputs": [],
   "source": [
    "from sklearn.datasets import load_iris\n",
    "# Load in iris"
   ]
  },
  {
   "cell_type": "code",
   "execution_count": null,
   "metadata": {
    "collapsed": true
   },
   "outputs": [],
   "source": [
    "# Instantiate KMeans"
   ]
  },
  {
   "cell_type": "code",
   "execution_count": null,
   "metadata": {
    "collapsed": false
   },
   "outputs": [],
   "source": [
    "# Fit and Predict"
   ]
  },
  {
   "cell_type": "code",
   "execution_count": null,
   "metadata": {
    "collapsed": false
   },
   "outputs": [],
   "source": [
    "# Print the resulting labels"
   ]
  },
  {
   "cell_type": "markdown",
   "metadata": {},
   "source": [
    "Now try and generate 2 plots side-by-side.  On the first, the true clusters (classes) and on the second, the predicted clusters.  The code for the 2 should be almost identical, make use of the work from above."
   ]
  },
  {
   "cell_type": "code",
   "execution_count": null,
   "metadata": {
    "collapsed": false
   },
   "outputs": [],
   "source": [
    "fig, (ax1, ax2) = plt.subplots( 1,2, figsize=(10,6), sharex=True, sharey=True)\n",
    "\n",
    "## first the true clusters\n",
    "\n",
    "    \n",
    "## second the k-means clusters\n",
    "\n",
    "\n",
    "ax1.set_xlabel('Sepal width (cm)')\n",
    "ax1.set_ylabel('Petal width (cm)')\n",
    "ax1.set_title('Sepal width (cm) VS Petal width (cm)')\n",
    "ax1.legend(loc='best')\n",
    "\n",
    "ax2.set_xlabel('Sepal width (cm)')\n",
    "ax2.set_ylabel('Petal width (cm)')\n",
    "ax2.set_title('Sepal width (cm) VS Petal width (cm)')"
   ]
  },
  {
   "cell_type": "markdown",
   "metadata": {},
   "source": [
    "#### How well does Kmeans perform?\n",
    "#### What are the pros and cons of unsupervised learning?"
   ]
  },
  {
   "cell_type": "markdown",
   "metadata": {},
   "source": [
    "### Exercise 2: Silhouette Scores"
   ]
  },
  {
   "cell_type": "markdown",
   "metadata": {},
   "source": [
    "### Silhouette score\n",
    "Silhouette score is one way of evaluating how good your clustering has done.  It can be a means of validation, in which you can try out different values of the parameters (namely **k**), and choose the value that results in the best silhouette score.\n",
    "\n",
    "Use `sklearn.metrics.silhouette_score()` on the initial dataset and the predicted clusters with a 'euclidean' distance metric to print out the silhouette score for k=3."
   ]
  },
  {
   "cell_type": "code",
   "execution_count": null,
   "metadata": {
    "collapsed": false
   },
   "outputs": [],
   "source": [
    "from sklearn import metrics\n",
    "from sklearn.metrics import pairwise_distances\n"
   ]
  },
  {
   "cell_type": "markdown",
   "metadata": {},
   "source": [
    "### calculate the Silhouette score for the values of k between 2-10"
   ]
  },
  {
   "cell_type": "code",
   "execution_count": null,
   "metadata": {
    "collapsed": false
   },
   "outputs": [],
   "source": [
    "# use a for loop to generate values of k, fit and label data, append the scores to a list, and print the scores\n"
   ]
  },
  {
   "cell_type": "markdown",
   "metadata": {},
   "source": [
    "Do you notice anything?  How many clusters would you have chosen in this example without knowing the right answer beforehand?  Is this the right number?  Can you see anything in the plots that suggests why you (may) have gotten the wrong answer?"
   ]
  },
  {
   "cell_type": "markdown",
   "metadata": {
    "collapsed": false
   },
   "source": [
    "### Exercise 3: Create your own Sum of Squared Errors function"
   ]
  },
  {
   "cell_type": "code",
   "execution_count": null,
   "metadata": {
    "collapsed": false
   },
   "outputs": [],
   "source": [
    "# reseting the labels to 3 clusters \n",
    "k_num = 3\n",
    "km = KMeans(n_clusters=k_num, random_state=1)\n",
    "km.fit(X)\n",
    "labels = km.labels_\n",
    "\n",
    "# start by calculating the mean for each cluster\n",
    "# you can check your answer with \n",
    "km.cluster_centers_\n",
    "\n",
    "def get_cluster_centers(X, labels, k_num):\n",
    "    CC_list = []\n",
    "    for k in range(k_num):\n",
    "        # get the mean coordinates of each cluster\n",
    "        CC_list.append(np.mean(X[labels == k], axis = 0))\n",
    "    return CC_list\n",
    "\n",
    "# for each cluster substract the mean from each data point to get the error\n",
    "# then get the magnitude of each error, square it, and sum it\n",
    "def get_SSE(X, labels):\n",
    "    k_num = len(np.unique(labels))\n",
    "    CC_list = get_cluster_centers(X, labels, k_num)\n",
    "    CSEs = []\n",
    "    for k in range(k_num):\n",
    "        # for each cluster of k we get the coordinates of how far off each point is to the cluster\n",
    "        error_cords = X[labels == k] - CC_list[k]\n",
    "        # square the coordinates and sum to get the magnitude squared\n",
    "        error_cords_sq = error_cords ** 2\n",
    "        error_mag_sq = np.sum(error_cords_sq, axis = 1)\n",
    "        # since we already have the magnitude of the error squared we can just take the sum for the cluster\n",
    "        CSE = np.sum(error_mag_sq)\n",
    "        CSEs.append(CSE)\n",
    "    # sum each cluster's sum of squared errors\n",
    "    return sum(CSEs)"
   ]
  },
  {
   "cell_type": "code",
   "execution_count": null,
   "metadata": {
    "collapsed": true
   },
   "outputs": [],
   "source": [
    "# similar to the loop before\n",
    "# generate values of k, fit and label data, append Sum of Squared Errors scores to a list, and print the scores\n",
    "\n",
    "SSEs = []\n",
    "Sil_coefs = []\n",
    "for k in range(2,10):\n",
    "    km = KMeans(n_clusters=k, random_state=1)\n",
    "    km.fit(X)\n",
    "    labels = km.labels_\n",
    "    Sil_coefs.append(metrics.silhouette_score(X, labels, metric='euclidean'))\n",
    "    SSEs.append(get_SSE(X, labels))"
   ]
  },
  {
   "cell_type": "markdown",
   "metadata": {},
   "source": [
    "### Exercise 4: Plot the SSE score next to the Silhouette scores"
   ]
  },
  {
   "cell_type": "code",
   "execution_count": null,
   "metadata": {
    "collapsed": false
   },
   "outputs": [],
   "source": [
    "fig, (ax1, ax2) = plt.subplots(1,2, figsize=(15,5), sharex=True)\n",
    "k_clusters = range(2,10)\n",
    "ax1.plot(k_clusters, Sil_coefs)\n",
    "ax1.set_xlabel('number of clusters')\n",
    "ax1.set_ylabel('silhouette coefficient')\n",
    "\n",
    "# plot here on ax2\n",
    "ax2.plot(k_clusters, SSEs)\n",
    "ax2.set_xlabel('number of clusters')\n",
    "ax2.set_ylabel('SSE');"
   ]
  },
  {
   "cell_type": "markdown",
   "metadata": {
    "collapsed": true
   },
   "source": [
    "What do you notice about the 2 plots?  Anything of interest?  Can you see and explain conceptually why the silhouette coefficient could be a useful measure in evaluation while SSE isn't complete?"
   ]
  },
  {
   "cell_type": "markdown",
   "metadata": {},
   "source": [
    "###Exercise: Clustering Handwritten Digits\n",
    "Let's try out somet of our clustering exercises on our digits dataset (the original MNIST dataset we used with KNN).\n",
    "\n",
    "Let's first fetch the dataset from the internet (which may take a while, note the asterisk [*]):"
   ]
  },
  {
   "cell_type": "code",
   "execution_count": null,
   "metadata": {
    "collapsed": true
   },
   "outputs": [],
   "source": [
    "from sklearn.datasets import fetch_mldata\n",
    "from sklearn.cluster import KMeans\n",
    "from sklearn.utils import shuffle\n",
    "X_digits, _,_, Y_digits = fetch_mldata(\"MNIST Original\").values() # fetch dataset from internet\n",
    "X_digits, Y_digits = shuffle(X_digits,Y_digits) # shuffle dataset (which is ordered!)\n",
    "X_digits = X_digits[-5000:]       # take only the last instances, to shorten runtime of KMeans"
   ]
  },
  {
   "cell_type": "markdown",
   "metadata": {},
   "source": [
    "Let's have a look at some of the instances in the dataset we just loaded:"
   ]
  },
  {
   "cell_type": "code",
   "execution_count": null,
   "metadata": {
    "collapsed": false
   },
   "outputs": [],
   "source": [
    "plt.rc(\"image\", cmap=\"binary\") # use black/white palette for plotting\n",
    "for i in xrange(10):\n",
    "    plt.subplot(2,5,i+1)\n",
    "    plt.imshow(X_digits[i].reshape(28,28))\n",
    "    plt.xticks(())\n",
    "    plt.yticks(())\n",
    "plt.tight_layout()"
   ]
  },
  {
   "cell_type": "markdown",
   "metadata": {},
   "source": [
    "Try creating a KMeans clusterer with 20 classes (obviously 10 would be ideal, but let's try 20 first).  Fit the model to the digits data."
   ]
  },
  {
   "cell_type": "code",
   "execution_count": null,
   "metadata": {
    "collapsed": true
   },
   "outputs": [],
   "source": []
  },
  {
   "cell_type": "markdown",
   "metadata": {},
   "source": [
    "Store the means of the clusters (the centroids) in a variable called `mu_digits` via a call to `cluster_centers_`:"
   ]
  },
  {
   "cell_type": "code",
   "execution_count": null,
   "metadata": {
    "collapsed": true
   },
   "outputs": [],
   "source": []
  },
  {
   "cell_type": "markdown",
   "metadata": {},
   "source": [
    "Now let's take a look at those \"mean digits\".  What is going on here?"
   ]
  },
  {
   "cell_type": "code",
   "execution_count": null,
   "metadata": {
    "collapsed": false
   },
   "outputs": [],
   "source": [
    "plt.figure(figsize=(16,6))\n",
    "for i in xrange(2*(mu_digits.shape[0]/2)): # loop over all means\n",
    "    plt.subplot(2,mu_digits.shape[0]/2,i+1)\n",
    "    plt.imshow(mu_digits[i].reshape(28,28))\n",
    "    plt.xticks(())\n",
    "    plt.yticks(())\n",
    "plt.tight_layout()"
   ]
  },
  {
   "cell_type": "markdown",
   "metadata": {},
   "source": [
    "Now that you've tried 20 clusters, let's see where the optimum is.  Try building a loop that tries out different values of k and stores the resulting silhouette coefficients.  What do you find the optimum k value to be?  Is it 10 as we might hope?"
   ]
  },
  {
   "cell_type": "code",
   "execution_count": null,
   "metadata": {
    "collapsed": true
   },
   "outputs": [],
   "source": []
  },
  {
   "cell_type": "markdown",
   "metadata": {},
   "source": [
    "For further exploration, try some of the other clustering types provided by sklearn and see how they perform (via silhouette coefficient or another cluster evaluation metric provided by sklearn)."
   ]
  },
  {
   "cell_type": "markdown",
   "metadata": {},
   "source": [
    "### Even Further Exploration\n",
    "- Load in the SMS Spam Classification dataset that we used in the Naive Bayes Lecture\n",
    "- Follow the same steps to \"vectorize\" the raw text data into feature vectors (based on TfidfVectorizer preferably)\n",
    "- Run KMeans with whatever number of clusters you like (or other clustering algorithms)\n",
    "- Select the best clustering results and examine them.  Print out the raw text for some of the documents in each cluster.  Are there patterns in the data?  Can you derive some intuition for why certain documents might've been grouped together?\n",
    "\n",
    "Remember, clustering is most often used in the data exploration step, so this is the type of exercise you might frequently use clustering for, to find patterns in the data at a higher level of abstraction than having to examine every single record individually."
   ]
  },
  {
   "cell_type": "code",
   "execution_count": null,
   "metadata": {
    "collapsed": true
   },
   "outputs": [],
   "source": []
  }
 ],
 "metadata": {
  "kernelspec": {
   "display_name": "Python 2",
   "language": "python",
   "name": "python2"
  },
  "language_info": {
   "codemirror_mode": {
    "name": "ipython",
    "version": 2
   },
   "file_extension": ".py",
   "mimetype": "text/x-python",
   "name": "python",
   "nbconvert_exporter": "python",
   "pygments_lexer": "ipython2",
   "version": "2.7.10"
  }
 },
 "nbformat": 4,
 "nbformat_minor": 0
}
